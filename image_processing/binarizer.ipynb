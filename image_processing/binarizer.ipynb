{
 "cells": [
  {
   "cell_type": "markdown",
   "metadata": {},
   "source": [
    "# \"Scratch\" Notebook to use to visually inspect the effect of binarization parameters and save a binarized image\n",
    "\n",
    "## To begin, run the 3 cells below"
   ]
  },
  {
   "cell_type": "code",
   "execution_count": 1,
   "metadata": {},
   "outputs": [],
   "source": [
    "%matplotlib inline\n",
    "import matplotlib\n",
    "import matplotlib.pyplot as plt\n",
    "import skimage\n",
    "from skimage import filters, io\n",
    "\n",
    "from ipywidgets import interactive, interact, IntSlider, FloatSlider\n",
    "import ipywidgets as widgets\n",
    "\n",
    "from os import path, mkdir"
   ]
  },
  {
   "cell_type": "code",
   "execution_count": 2,
   "metadata": {},
   "outputs": [],
   "source": [
    "plt.rcParams['figure.figsize'] = [32, 8]"
   ]
  },
  {
   "cell_type": "code",
   "execution_count": 3,
   "metadata": {},
   "outputs": [],
   "source": [
    "class Binarizer():\n",
    "    def __init__(self, path_to_file):\n",
    "        self.path_to_file = path_to_file\n",
    "        self.window_size = 75\n",
    "        self.k = 0.1\n",
    "        \n",
    "    def binarize(self, window_size=151, k=0.5):\n",
    "        grey_image = io.imread(self.path_to_file, as_grey=True)\n",
    "        binary_sauvola = filters.threshold_sauvola(grey_image, window_size=window_size, k=k)\n",
    "        binary_image = grey_image > binary_sauvola\n",
    "        self.window_size = window_size\n",
    "        self.k = k\n",
    "        self.binary_image = binary_image\n",
    "        plt.axis('off')\n",
    "        plt.imshow(binary_image, cmap=plt.cm.gray)\n",
    "\n",
    "    def save_binary_image(self, output_dir=path.curdir):\n",
    "        binary_filename = path.splitext(path.basename(self.path_to_file))[0] + \".binarized_{}_{}.png\".format(\n",
    "            self.window_size, self.k)\n",
    "        output_path = path.join(output_dir, binary_filename)\n",
    "        plt.axis('off')\n",
    "        plt.imsave(arr=self.binary_image, fname=output_path, cmap=plt.cm.gray)\n",
    "        print(\"Binarized image saved at {}\".format(output_path))"
   ]
  },
  {
   "cell_type": "markdown",
   "metadata": {},
   "source": [
    "### After runing the three cells above, then put the path to the image you want to binarize below, assigning it to the `f` variable, and run the two cells below."
   ]
  },
  {
   "cell_type": "code",
   "execution_count": 5,
   "metadata": {},
   "outputs": [
    {
     "data": {
      "application/vnd.jupyter.widget-view+json": {
       "model_id": "6b289e6cdcd54e3281b7f5e465945bcb",
       "version_major": 2,
       "version_minor": 0
      },
      "text/plain": [
       "interactive(children=(IntSlider(value=75, continuous_update=False, description='window_size', max=201, min=3, …"
      ]
     },
     "metadata": {},
     "output_type": "display_data"
    },
    {
     "data": {
      "text/plain": [
       "<function ipywidgets.widgets.interaction._InteractFactory.__call__.<locals>.<lambda>>"
      ]
     },
     "execution_count": 5,
     "metadata": {},
     "output_type": "execute_result"
    }
   ],
   "source": [
    "f=\"/media/jbruno/big_media/575_data/Lindon-Smith/1908-12-28-ls/1908-12-28-ls-5116-1a.jpg\"\n",
    "\n",
    "binarizer = Binarizer(f)\n",
    "\n",
    "interact(binarizer.binarize,\n",
    "         window_size=IntSlider(min=3, max=201, step=2, value = binarizer.window_size, continuous_update=False),\n",
    "         k=FloatSlider(min=0.0, max=0.7, step=0.01, value = binarizer.k, continuous_update=False))"
   ]
  },
  {
   "cell_type": "markdown",
   "metadata": {},
   "source": [
    "### Adjust the sliders for `window_size` and `k` above.  Save the binarized image by putting in a path to an output directory below and running the cell.  The filename will automatically have the form: `<input file>_<window_size>_<k>.png`"
   ]
  },
  {
   "cell_type": "code",
   "execution_count": 19,
   "metadata": {},
   "outputs": [
    {
     "name": "stdout",
     "output_type": "stream",
     "text": [
      "Binarized image saved at /media/jbruno/big_media/575_data/my_LFH_versions/binarized/10mm_ink.cropped.binarized_201_0.08.png\n"
     ]
    },
    {
     "data": {
      "image/png": "[encoded data removed]",
      "text/plain": [
       "<matplotlib.figure.Figure at 0x7f0f45eca898>"
      ]
     },
     "metadata": {},
     "output_type": "display_data"
    }
   ],
   "source": [
    "output_directory = \"/media/jbruno/big_media/575_data/my_LFH_versions/binarized\"\n",
    "binarizer.save_binary_image(output_directory)\n"
   ]
  }
 ],
 "metadata": {
  "kernelspec": {
   "display_name": "Python 3",
   "language": "python",
   "name": "python3"
  },
  "language_info": {
   "codemirror_mode": {
    "name": "ipython",
    "version": 3
   },
   "file_extension": ".py",
   "mimetype": "text/x-python",
   "name": "python",
   "nbconvert_exporter": "python",
   "pygments_lexer": "ipython3",
   "version": "3.6.2"
  }
 },
 "nbformat": 4,
 "nbformat_minor": 2
}
